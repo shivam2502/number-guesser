{
 "cells": [
  {
   "cell_type": "markdown",
   "metadata": {},
   "source": [
    "# Number Guesser"
   ]
  },
  {
   "cell_type": "code",
   "execution_count": 1,
   "metadata": {},
   "outputs": [],
   "source": [
    "from random import randint\n",
    "from retrying import retry \n",
    "import sys \n",
    "chances=3\n",
    "gcorr=False\n",
    "uicor=False"
   ]
  },
  {
   "cell_type": "code",
   "execution_count": 2,
   "metadata": {},
   "outputs": [],
   "source": [
    "@retry(stop_max_attempt_number=3)\n",
    "def get_user_input():\n",
    "    try:\n",
    "        start=int(input(\"Enter the first integer \"))\n",
    "        end=int(input(\"Enter the second integer \"))\n",
    "    except:\n",
    "        print(\"Please Enter a valid integer \")\n",
    "    return start,end   "
   ]
  },
  {
   "cell_type": "code",
   "execution_count": 3,
   "metadata": {},
   "outputs": [
    {
     "name": "stdout",
     "output_type": "stream",
     "text": [
      "Enter the first integer 3\n",
      "Enter the second integer 7\n",
      "Guess the integer5\n",
      "Incorrect try again\n",
      "Guess the integer4\n",
      "Incorrect try again\n",
      "Guess the integer6\n",
      "Correct\n",
      "Success\n"
     ]
    }
   ],
   "source": [
    "try:\n",
    "    start,end = get_user_input()\n",
    "except:\n",
    "    print(\"Tries Exhausted\")\n",
    "    sys.exit()\n",
    "num=randint(start,end)\n",
    "for _ in range(0,chances):\n",
    "    guess=int(input(\"Guess the integer\"))\n",
    "    if(guess==num):\n",
    "        print(\"Correct\")\n",
    "        gcorr=True\n",
    "        break\n",
    "    else:\n",
    "        print(\"Incorrect try again\")\n",
    "if(gcorr==False):\n",
    "    print(\"You were not able to guess\")\n",
    "else:\n",
    "    print(\"Success\")"
   ]
  },
  {
   "cell_type": "code",
   "execution_count": null,
   "metadata": {},
   "outputs": [],
   "source": []
  },
  {
   "cell_type": "code",
   "execution_count": null,
   "metadata": {},
   "outputs": [],
   "source": []
  }
 ],
 "metadata": {
  "kernelspec": {
   "display_name": "Python 3",
   "language": "python",
   "name": "python3"
  },
  "language_info": {
   "codemirror_mode": {
    "name": "ipython",
    "version": 3
   },
   "file_extension": ".py",
   "mimetype": "text/x-python",
   "name": "python",
   "nbconvert_exporter": "python",
   "pygments_lexer": "ipython3",
   "version": "3.7.6"
  }
 },
 "nbformat": 4,
 "nbformat_minor": 4
}
